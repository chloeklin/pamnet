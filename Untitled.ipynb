{
 "cells": [
  {
   "cell_type": "code",
   "execution_count": 1,
   "id": "af5bc7ab-1a17-4c7e-b3a8-fff77444cc4c",
   "metadata": {},
   "outputs": [],
   "source": [
    "import os\n",
    "os.chdir(\"/scratch/um09/hl4138/pamnet/\")"
   ]
  },
  {
   "cell_type": "code",
   "execution_count": 6,
   "id": "9e0ff776-07c8-4883-942d-f2bbb739bf05",
   "metadata": {
    "tags": []
   },
   "outputs": [],
   "source": [
    "class MyTransform(object):\n",
    "        def __call__(self, data):\n",
    "            target = args.target\n",
    "            if target in [7, 8, 9, 10]:\n",
    "                target = target + 5\n",
    "            data.y = data.y[:, target]\n",
    "            return data"
   ]
  },
  {
   "cell_type": "code",
   "execution_count": 7,
   "id": "871a6b63-66ad-4273-8161-27ee34184b04",
   "metadata": {},
   "outputs": [
    {
     "name": "stdout",
     "output_type": "stream",
     "text": [
      "Downloading https://deepchemdata.s3-us-west-1.amazonaws.com/datasets/molnet_publish/qm9.zip\n",
      "Extracting data/QM9/raw/qm9.zip\n",
      "Downloading https://ndownloader.figshare.com/files/3195404\n",
      "Processing...\n"
     ]
    },
    {
     "name": "stderr",
     "output_type": "stream",
     "text": [
      "100%|██████████| 133885/133885 [02:04<00:00, 1075.70it/s]\n"
     ]
    },
    {
     "name": "stdout",
     "output_type": "stream",
     "text": [
      "Done!\n"
     ]
    }
   ],
   "source": [
    "from main_qm9 import *\n",
    "path = osp.join('.', 'data', 'QM9')\n",
    "dataset = QM9(path, transform=MyTransform()).shuffle()"
   ]
  },
  {
   "cell_type": "code",
   "execution_count": null,
   "id": "194a868c-9aaa-42f5-a9ae-deff95b9f82a",
   "metadata": {},
   "outputs": [],
   "source": []
  }
 ],
 "metadata": {
  "kernelspec": {
   "display_name": "Python 3 (ipykernel)",
   "language": "python",
   "name": "python3"
  },
  "language_info": {
   "codemirror_mode": {
    "name": "ipython",
    "version": 3
   },
   "file_extension": ".py",
   "mimetype": "text/x-python",
   "name": "python",
   "nbconvert_exporter": "python",
   "pygments_lexer": "ipython3",
   "version": "3.10.4"
  }
 },
 "nbformat": 4,
 "nbformat_minor": 5
}
